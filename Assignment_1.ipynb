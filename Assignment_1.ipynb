{
  "nbformat": 4,
  "nbformat_minor": 5,
  "metadata": {
    "kernelspec": {
      "display_name": "Python 3",
      "language": "python",
      "name": "python3"
    },
    "language_info": {
      "codemirror_mode": {
        "name": "ipython",
        "version": 3
      },
      "file_extension": ".py",
      "mimetype": "text/x-python",
      "name": "python",
      "nbconvert_exporter": "python",
      "pygments_lexer": "ipython3",
      "version": "3.8.8"
    },
    "colab": {
      "name": "Assignment_1.ipynb",
      "provenance": [],
      "include_colab_link": true
    }
  },
  "cells": [
    {
      "cell_type": "markdown",
      "metadata": {
        "id": "view-in-github",
        "colab_type": "text"
      },
      "source": [
        "<a href=\"https://colab.research.google.com/github/ibarkhouse/Bertha_Simulation/blob/main/Assignment_1.ipynb\" target=\"_parent\"><img src=\"https://colab.research.google.com/assets/colab-badge.svg\" alt=\"Open In Colab\"/></a>"
      ]
    },
    {
      "cell_type": "code",
      "metadata": {
        "id": "b1c011a1"
      },
      "source": [
        "#Initial Parameters\n",
        "Vehicle_Mass = 2000;# kg\n",
        "Tyre_Stiffness = 40;# N/N\n",
        "Yaw_Inertia = 2000;# kgm^2\n",
        "Vehicle_Speed = 20;# m/s\n",
        "TyreR_2_CoG = 1.4;# m (Distance from the rear tyre to the CoG)\n",
        "TyreF_2_CoG = 1.2;# m (Distance from the front tyre to the CoG)"
      ],
      "id": "b1c011a1",
      "execution_count": null,
      "outputs": []
    },
    {
      "cell_type": "markdown",
      "metadata": {
        "id": "968e2b6f"
      },
      "source": [
        "Formulate the model as a transfer function using the values stated above. Choose an output that represents the motion of the vehicle and the steering angle as your input. Show some steps in your calculation."
      ],
      "id": "968e2b6f"
    },
    {
      "cell_type": "code",
      "metadata": {
        "id": "b2c1d6f4"
      },
      "source": [
        ""
      ],
      "id": "b2c1d6f4",
      "execution_count": null,
      "outputs": []
    },
    {
      "cell_type": "markdown",
      "metadata": {
        "id": "99875074"
      },
      "source": [
        "Can you describe the steady state (equilibrium) point in words? Is your model stable w.r.t. to this point? Is your system stable w.r.t to the input (steering wheel angle), i.e bounded input gets bounded output?"
      ],
      "id": "99875074"
    },
    {
      "cell_type": "markdown",
      "metadata": {
        "id": "d99c077c"
      },
      "source": [
        "Plot the bode diagram of the model. Use the yaw rate as output and the steering angle as the input. Describe what you get, e.g. is there some extra interesting frequencies, what do they mean? What happens at low and high frequencies?"
      ],
      "id": "d99c077c"
    },
    {
      "cell_type": "code",
      "metadata": {
        "id": "55ec7b49",
        "outputId": "fa1e957b-a92a-456f-9df5-b455c2f3d4a3"
      },
      "source": [
        "from scipy import signal\n",
        "import matplotlib.pyplot as plt\n",
        "\n",
        "sys = signal.TransferFunction([1], [1, 1])\n",
        "\n",
        "w, mag, phase = signal.bode(sys)\n",
        "\n",
        "plt.figure()\n",
        "\n",
        "plt.semilogx(w, mag)    # Bode magnitude plot\n",
        "\n",
        "plt.figure()\n",
        "\n",
        "plt.semilogx(w, phase)  # Bode phase plot\n",
        "\n",
        "plt.show()"
      ],
      "id": "55ec7b49",
      "execution_count": null,
      "outputs": [
        {
          "output_type": "display_data",
          "data": {
            "image/png": "[encoded data removed]",
            "text/plain": [
              "<Figure size 432x288 with 1 Axes>"
            ]
          },
          "metadata": {
            "tags": [],
            "needs_background": "light"
          }
        },
        {
          "output_type": "display_data",
          "data": {
            "image/png": "[encoded data removed]",
            "text/plain": [
              "<Figure size 432x288 with 1 Axes>"
            ]
          },
          "metadata": {
            "tags": [],
            "needs_background": "light"
          }
        }
      ]
    },
    {
      "cell_type": "markdown",
      "metadata": {
        "id": "bd8bc817"
      },
      "source": [
        "If we start to drive at a different speed, we will experience a different dynamic response of the vehicle. Explain with words and equations what we can expect while driving in other speeds"
      ],
      "id": "bd8bc817"
    },
    {
      "cell_type": "markdown",
      "metadata": {
        "id": "16e0e7a1"
      },
      "source": [
        "We are now interested in introducing nonlinear models to capture more effects that we have observed from our vehicle. In particular, we are interested in capturing the vehicle behavior on ice. Hence, we introduce nonlinear tyre models for our models front and rear wheels. To keep things simple we use a model like,\n",
        "\n",
        "where the stiffness C i has the same interpretation as for the linear tyre model, i.e. the initial slope of the force-slip curve and the friction μ is the maximum force level and F zi is the normal load on the tyre. What is/are the steady state point(s) now with this new nonlinear tyres? Can we expect the model to behave very different to small steering inputs? Is our model stable with respect to the steering input?"
      ],
      "id": "16e0e7a1"
    },
    {
      "cell_type": "markdown",
      "metadata": {
        "id": "69a530f5"
      },
      "source": [
        "You are asked to design a test on a test track where the purpose is to identify the parameters of a simple linear model like the one from Assignment 1 above. What would you need to consider in order to get useful data? More specifically, how would you instruct your test driver/steering robot to steer? Can you think of sources of errors that you need to consider, apart from sensor related issues."
      ],
      "id": "69a530f5"
    },
    {
      "cell_type": "code",
      "metadata": {
        "id": "8f89aba4"
      },
      "source": [
        ""
      ],
      "id": "8f89aba4",
      "execution_count": null,
      "outputs": []
    }
  ]
}